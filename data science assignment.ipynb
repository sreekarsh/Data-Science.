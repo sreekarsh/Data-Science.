{
 "cells": [
  {
   "cell_type": "markdown",
   "id": "b251ea8c",
   "metadata": {},
   "source": [
    "# Data Science Notebook\n",
    "\n"
   ]
  },
  {
   "cell_type": "markdown",
   "id": "2e17a5bb",
   "metadata": {},
   "source": [
    "## Introduction\n",
    "This notebook is a demonstration of various data science concepts and tools, including programming languages, libraries, and basic arithmetic operations.\n",
    "\n"
   ]
  },
  {
   "cell_type": "markdown",
   "id": "3976786d",
   "metadata": {},
   "source": [
    "\n",
    "## Data Science Languages\n",
    "- Python\n",
    "- R\n",
    "- SQL\n",
    "- Julia\n",
    "- Java\n"
   ]
  },
  {
   "cell_type": "markdown",
   "id": "8a93aa24",
   "metadata": {},
   "source": [
    "## Data Science Libraries\n",
    "- NumPy\n",
    "- Pandas\n",
    "- Matplotlib\n",
    "- TensorFlow\n",
    "- Scikit-learn\n"
   ]
  },
  {
   "cell_type": "markdown",
   "id": "2d41d1be",
   "metadata": {},
   "source": [
    "## Data Science Tools\n",
    "\n",
    "| Tool Name       | Usage                          |\n",
    "|-----------------|--------------------------------|\n",
    "| Jupyter Notebook| Interactive coding environment |\n",
    "| RStudio         | Integrated Development for R   |\n",
    "| Apache Hadoop   | Distributed storage and computing|\n",
    "| TensorFlow      | Machine learning framework     |\n",
    "| Tableau         | Data visualization tool        |\n"
   ]
  },
  {
   "cell_type": "markdown",
   "id": "9bb46b91",
   "metadata": {},
   "source": [
    "## Arithmetic Expression Examples\n",
    "In this section, we will demonstrate basic arithmetic operations such as multiplication and addition.\n"
   ]
  },
  {
   "cell_type": "code",
   "execution_count": 1,
   "id": "fbe19d5d",
   "metadata": {},
   "outputs": [
    {
     "data": {
      "text/plain": [
       "17"
      ]
     },
     "execution_count": 1,
     "metadata": {},
     "output_type": "execute_result"
    }
   ],
   "source": [
    "# Multiplying and adding numbers\n",
    "a = 5\n",
    "b = 3\n",
    "result = (a * b) + 2\n",
    "result\n"
   ]
  },
  {
   "cell_type": "code",
   "execution_count": 2,
   "id": "330c5d9b",
   "metadata": {},
   "outputs": [
    {
     "data": {
      "text/plain": [
       "2.0"
      ]
     },
     "execution_count": 2,
     "metadata": {},
     "output_type": "execute_result"
    }
   ],
   "source": [
    "# Converting minutes to hours\n",
    "minutes = 120\n",
    "hours = minutes / 60\n",
    "hours\n"
   ]
  },
  {
   "cell_type": "markdown",
   "id": "2192b1e8",
   "metadata": {},
   "source": [
    "## Objectives\n",
    "- Understand basic data science languages\n",
    "- Explore common data science libraries\n",
    "- Demonstrate arithmetic operations\n",
    "- Practice using Jupyter Notebooks\n"
   ]
  },
  {
   "cell_type": "code",
   "execution_count": null,
   "id": "8bb2c52c",
   "metadata": {},
   "outputs": [],
   "source": []
  }
 ],
 "metadata": {
  "kernelspec": {
   "display_name": "Python 3 (ipykernel)",
   "language": "python",
   "name": "python3"
  },
  "language_info": {
   "codemirror_mode": {
    "name": "ipython",
    "version": 3
   },
   "file_extension": ".py",
   "mimetype": "text/x-python",
   "name": "python",
   "nbconvert_exporter": "python",
   "pygments_lexer": "ipython3",
   "version": "3.11.3"
  }
 },
 "nbformat": 4,
 "nbformat_minor": 5
}
